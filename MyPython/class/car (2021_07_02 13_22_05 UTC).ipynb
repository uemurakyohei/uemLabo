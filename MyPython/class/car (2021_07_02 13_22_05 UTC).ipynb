{
 "cells": [
  {
   "cell_type": "code",
   "execution_count": 45,
   "metadata": {},
   "outputs": [
    {
     "ename": "SyntaxError",
     "evalue": "unexpected EOF while parsing (<ipython-input-45-2723fb158971>, line 41)",
     "output_type": "error",
     "traceback": [
      "\u001b[1;36m  File \u001b[1;32m\"<ipython-input-45-2723fb158971>\"\u001b[1;36m, line \u001b[1;32m41\u001b[0m\n\u001b[1;33m    def __init__(self,size = 75):\u001b[0m\n\u001b[1;37m                                 ^\u001b[0m\n\u001b[1;31mSyntaxError\u001b[0m\u001b[1;31m:\u001b[0m unexpected EOF while parsing\n"
     ]
    }
   ],
   "source": [
    "class Car:\n",
    "    def __init__(self,make,model,year):\n",
    "        self.make = make\n",
    "        self.model = model\n",
    "        self.year = year\n",
    "        \n",
    "        self.fuel_capacity = 15\n",
    "        self.fuel_level = 0\n",
    "    \n",
    "    def fill_tank(self):\n",
    "        self.fuel_level = self.fuel_capacity\n",
    "        print(\"Fuel tank is full.\")\n",
    "    \n",
    "    def drive(self):\n",
    "        print(\"The car is moving.\")\n",
    "    \n",
    "    def add_fuel(self):\n",
    "        print('How many fuel did you add?/n Please input amount!')\n",
    "        amount = int(input())\n",
    "        try:\n",
    "            if amount + self.fuel_level > self.fuel_capacity:\n",
    "                print(f'Imposible! We can add less than {self.fuel_capacity}')\n",
    "            else:\n",
    "                self.fuel_level += amount\n",
    "                print(f'We added {amount}')\n",
    "        except:\n",
    "            print('Please input only number!')\n",
    "\n",
    "\n",
    "class Electric_car(Car):\n",
    "    def __init__(self,make,model,year):\n",
    "        super().__init__(make,model,year)\n",
    "        \n",
    "        self.battery = Battery()\n",
    "        \n",
    "        self.battery_size = 75\n",
    "        self.charge_level = 0\n",
    "        \n",
    "    def charge(self):\n",
    "        self.charge_level = 100\n",
    "        print(\"The vehicle is fully charged.\")\n",
    "\n",
    "class Battery:\n",
    "    def __init__(self,size = 75):\n",
    "        self.size = size\n",
    "        self.chage_level = 0\n",
    "    \n",
    "    def get_range(self):\n",
    "        if self.size == 75:\n",
    "            return 260\n",
    "        elif self.size == 100:\n",
    "            return 315"
   ]
  },
  {
   "cell_type": "code",
   "execution_count": 41,
   "metadata": {},
   "outputs": [],
   "source": [
    "my_ecar = Electric_car('tesla','model s',2019)"
   ]
  },
  {
   "cell_type": "code",
   "execution_count": 42,
   "metadata": {},
   "outputs": [
    {
     "name": "stdout",
     "output_type": "stream",
     "text": [
      "The vehicle is fully charged.\n"
     ]
    }
   ],
   "source": [
    "my_ecar.charge()"
   ]
  },
  {
   "cell_type": "code",
   "execution_count": 44,
   "metadata": {},
   "outputs": [
    {
     "name": "stdout",
     "output_type": "stream",
     "text": [
      "Fuel tank is full.\n"
     ]
    }
   ],
   "source": [
    "my_ecar.fill_tank()"
   ]
  },
  {
   "cell_type": "code",
   "execution_count": null,
   "metadata": {},
   "outputs": [],
   "source": []
  }
 ],
 "metadata": {
  "kernelspec": {
   "display_name": "Python 3",
   "language": "python",
   "name": "python3"
  },
  "language_info": {
   "codemirror_mode": {
    "name": "ipython",
    "version": 3
   },
   "file_extension": ".py",
   "mimetype": "text/x-python",
   "name": "python",
   "nbconvert_exporter": "python",
   "pygments_lexer": "ipython3",
   "version": "3.8.5"
  }
 },
 "nbformat": 4,
 "nbformat_minor": 4
}
