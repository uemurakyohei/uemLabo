{
 "cells": [
  {
   "cell_type": "code",
   "execution_count": 54,
   "metadata": {},
   "outputs": [],
   "source": [
    "import pandas as pd\n",
    "from glob import glob"
   ]
  },
  {
   "cell_type": "code",
   "execution_count": 55,
   "metadata": {},
   "outputs": [
    {
     "data": {
      "text/plain": [
       "['sources\\\\請求書_10月_TTTInc.xlsx',\n",
       " 'sources\\\\請求書_11月_ICHIGO.xlsx',\n",
       " 'sources\\\\請求書_11月_XYZ株式会社.xlsx',\n",
       " 'sources\\\\請求書_12月_CDF商事.xlsx',\n",
       " 'sources\\\\請求書_12月_STR_Corp.xlsx',\n",
       " 'sources\\\\請求書_12月_TTTInc.xlsx',\n",
       " 'sources\\\\請求書_12月_株式会社ABC.xlsx']"
      ]
     },
     "execution_count": 55,
     "metadata": {},
     "output_type": "execute_result"
    }
   ],
   "source": [
    "filepaths=glob('sources/請求書*.xlsx')\n",
    "filepaths"
   ]
  },
  {
   "cell_type": "code",
   "execution_count": 56,
   "metadata": {},
   "outputs": [],
   "source": [
    "def extract(filepath):\n",
    "    _df = pd.read_excel(filepath)\n",
    "    df=_df.iloc[11:23,[1,2,4,10,11,14]]\n",
    "    colums=_df.iloc[10,[1,2,4,10,11,14]]\n",
    "    df.columns=colums\n",
    "    df['企業名']=_df.iloc[2,0]\n",
    "    df['企業コード']=_df.iloc[3,4]\n",
    "    df['請求No']=_df.iloc[2,12]\n",
    "    df['発行日']=_df.iloc[3,12]\n",
    "    df['発行者']=_df.iloc[4,12]\n",
    "    df['発行者コード']=_df.iloc[4,13]\n",
    "    return df"
   ]
  },
  {
   "cell_type": "code",
   "execution_count": 57,
   "metadata": {},
   "outputs": [],
   "source": [
    "df = pd.DataFrame()\n",
    "\n",
    "for filepath in filepaths:\n",
    "    df=pd.concat([df,extract(filepath)])"
   ]
  },
  {
   "cell_type": "code",
   "execution_count": 58,
   "metadata": {},
   "outputs": [
    {
     "data": {
      "text/html": [
       "<div>\n",
       "<style scoped>\n",
       "    .dataframe tbody tr th:only-of-type {\n",
       "        vertical-align: middle;\n",
       "    }\n",
       "\n",
       "    .dataframe tbody tr th {\n",
       "        vertical-align: top;\n",
       "    }\n",
       "\n",
       "    .dataframe thead th {\n",
       "        text-align: right;\n",
       "    }\n",
       "</style>\n",
       "<table border=\"1\" class=\"dataframe\">\n",
       "  <thead>\n",
       "    <tr style=\"text-align: right;\">\n",
       "      <th>10</th>\n",
       "      <th>日付</th>\n",
       "      <th>商品コード</th>\n",
       "      <th>品名</th>\n",
       "      <th>数量[L] or [-]</th>\n",
       "      <th>単価[¥/L] or [¥]</th>\n",
       "      <th>金額</th>\n",
       "      <th>企業名</th>\n",
       "      <th>企業コード</th>\n",
       "      <th>請求No</th>\n",
       "      <th>発行日</th>\n",
       "      <th>発行者</th>\n",
       "      <th>発行者コード</th>\n",
       "    </tr>\n",
       "  </thead>\n",
       "  <tbody>\n",
       "    <tr>\n",
       "      <th>11</th>\n",
       "      <td>2020-10-04 00:00:00</td>\n",
       "      <td>GSL0001</td>\n",
       "      <td>レギュラー</td>\n",
       "      <td>20</td>\n",
       "      <td>120</td>\n",
       "      <td>2400</td>\n",
       "      <td>TTT Inc.</td>\n",
       "      <td>6</td>\n",
       "      <td>012</td>\n",
       "      <td>2020/10/31</td>\n",
       "      <td>岸辺</td>\n",
       "      <td>2.0</td>\n",
       "    </tr>\n",
       "    <tr>\n",
       "      <th>12</th>\n",
       "      <td>2020-10-05 00:00:00</td>\n",
       "      <td>GSL0002</td>\n",
       "      <td>ハイオク</td>\n",
       "      <td>45</td>\n",
       "      <td>160</td>\n",
       "      <td>7200</td>\n",
       "      <td>TTT Inc.</td>\n",
       "      <td>6</td>\n",
       "      <td>012</td>\n",
       "      <td>2020/10/31</td>\n",
       "      <td>岸辺</td>\n",
       "      <td>2.0</td>\n",
       "    </tr>\n",
       "    <tr>\n",
       "      <th>13</th>\n",
       "      <td>2020-10-06 00:00:00</td>\n",
       "      <td>GSL0003</td>\n",
       "      <td>軽油</td>\n",
       "      <td>50</td>\n",
       "      <td>100</td>\n",
       "      <td>5000</td>\n",
       "      <td>TTT Inc.</td>\n",
       "      <td>6</td>\n",
       "      <td>012</td>\n",
       "      <td>2020/10/31</td>\n",
       "      <td>岸辺</td>\n",
       "      <td>2.0</td>\n",
       "    </tr>\n",
       "    <tr>\n",
       "      <th>14</th>\n",
       "      <td>2020-10-07 00:00:00</td>\n",
       "      <td>GDS0002</td>\n",
       "      <td>コロン</td>\n",
       "      <td>3</td>\n",
       "      <td>800</td>\n",
       "      <td>2400</td>\n",
       "      <td>TTT Inc.</td>\n",
       "      <td>6</td>\n",
       "      <td>012</td>\n",
       "      <td>2020/10/31</td>\n",
       "      <td>岸辺</td>\n",
       "      <td>2.0</td>\n",
       "    </tr>\n",
       "    <tr>\n",
       "      <th>15</th>\n",
       "      <td>2020-10-08 00:00:00</td>\n",
       "      <td>CMT0004</td>\n",
       "      <td>オイル交換</td>\n",
       "      <td>1</td>\n",
       "      <td>1000</td>\n",
       "      <td>1000</td>\n",
       "      <td>TTT Inc.</td>\n",
       "      <td>6</td>\n",
       "      <td>012</td>\n",
       "      <td>2020/10/31</td>\n",
       "      <td>岸辺</td>\n",
       "      <td>2.0</td>\n",
       "    </tr>\n",
       "    <tr>\n",
       "      <th>...</th>\n",
       "      <td>...</td>\n",
       "      <td>...</td>\n",
       "      <td>...</td>\n",
       "      <td>...</td>\n",
       "      <td>...</td>\n",
       "      <td>...</td>\n",
       "      <td>...</td>\n",
       "      <td>...</td>\n",
       "      <td>...</td>\n",
       "      <td>...</td>\n",
       "      <td>...</td>\n",
       "      <td>...</td>\n",
       "    </tr>\n",
       "    <tr>\n",
       "      <th>18</th>\n",
       "      <td>2020-12-20 00:00:00</td>\n",
       "      <td>CMT0004</td>\n",
       "      <td>オイル交換</td>\n",
       "      <td>1</td>\n",
       "      <td>1000</td>\n",
       "      <td>1000</td>\n",
       "      <td>株式会社ABC</td>\n",
       "      <td>1</td>\n",
       "      <td>003</td>\n",
       "      <td>2020/12/28</td>\n",
       "      <td>桜田</td>\n",
       "      <td>5.0</td>\n",
       "    </tr>\n",
       "    <tr>\n",
       "      <th>19</th>\n",
       "      <td>2020-12-22 00:00:00</td>\n",
       "      <td>CMT0005</td>\n",
       "      <td>タイヤ交換</td>\n",
       "      <td>1</td>\n",
       "      <td>4000</td>\n",
       "      <td>4000</td>\n",
       "      <td>株式会社ABC</td>\n",
       "      <td>1</td>\n",
       "      <td>003</td>\n",
       "      <td>2020/12/28</td>\n",
       "      <td>桜田</td>\n",
       "      <td>5.0</td>\n",
       "    </tr>\n",
       "    <tr>\n",
       "      <th>20</th>\n",
       "      <td>2020-12-22 00:00:00</td>\n",
       "      <td>GDS0001</td>\n",
       "      <td>タイヤ</td>\n",
       "      <td>4</td>\n",
       "      <td>8000</td>\n",
       "      <td>32000</td>\n",
       "      <td>株式会社ABC</td>\n",
       "      <td>1</td>\n",
       "      <td>003</td>\n",
       "      <td>2020/12/28</td>\n",
       "      <td>桜田</td>\n",
       "      <td>5.0</td>\n",
       "    </tr>\n",
       "    <tr>\n",
       "      <th>21</th>\n",
       "      <td>2020-12-22 00:00:00</td>\n",
       "      <td>GDS0002</td>\n",
       "      <td>コロン</td>\n",
       "      <td>1</td>\n",
       "      <td>800</td>\n",
       "      <td>800</td>\n",
       "      <td>株式会社ABC</td>\n",
       "      <td>1</td>\n",
       "      <td>003</td>\n",
       "      <td>2020/12/28</td>\n",
       "      <td>桜田</td>\n",
       "      <td>5.0</td>\n",
       "    </tr>\n",
       "    <tr>\n",
       "      <th>22</th>\n",
       "      <td>2020-12-22 00:00:00</td>\n",
       "      <td>GDS0003</td>\n",
       "      <td>スナック</td>\n",
       "      <td>3</td>\n",
       "      <td>100</td>\n",
       "      <td>300</td>\n",
       "      <td>株式会社ABC</td>\n",
       "      <td>1</td>\n",
       "      <td>003</td>\n",
       "      <td>2020/12/28</td>\n",
       "      <td>桜田</td>\n",
       "      <td>5.0</td>\n",
       "    </tr>\n",
       "  </tbody>\n",
       "</table>\n",
       "<p>84 rows × 12 columns</p>\n",
       "</div>"
      ],
      "text/plain": [
       "10                   日付    商品コード     品名 数量[L] or [-] 単価[¥/L] or [¥]     金額  \\\n",
       "11  2020-10-04 00:00:00  GSL0001  レギュラー           20            120   2400   \n",
       "12  2020-10-05 00:00:00  GSL0002   ハイオク           45            160   7200   \n",
       "13  2020-10-06 00:00:00  GSL0003     軽油           50            100   5000   \n",
       "14  2020-10-07 00:00:00  GDS0002    コロン            3            800   2400   \n",
       "15  2020-10-08 00:00:00  CMT0004  オイル交換            1           1000   1000   \n",
       "..                  ...      ...    ...          ...            ...    ...   \n",
       "18  2020-12-20 00:00:00  CMT0004  オイル交換            1           1000   1000   \n",
       "19  2020-12-22 00:00:00  CMT0005  タイヤ交換            1           4000   4000   \n",
       "20  2020-12-22 00:00:00  GDS0001    タイヤ            4           8000  32000   \n",
       "21  2020-12-22 00:00:00  GDS0002    コロン            1            800    800   \n",
       "22  2020-12-22 00:00:00  GDS0003   スナック            3            100    300   \n",
       "\n",
       "10       企業名  企業コード 請求No         発行日 発行者  発行者コード  \n",
       "11  TTT Inc.      6  012  2020/10/31  岸辺     2.0  \n",
       "12  TTT Inc.      6  012  2020/10/31  岸辺     2.0  \n",
       "13  TTT Inc.      6  012  2020/10/31  岸辺     2.0  \n",
       "14  TTT Inc.      6  012  2020/10/31  岸辺     2.0  \n",
       "15  TTT Inc.      6  012  2020/10/31  岸辺     2.0  \n",
       "..       ...    ...  ...         ...  ..     ...  \n",
       "18   株式会社ABC      1  003  2020/12/28  桜田     5.0  \n",
       "19   株式会社ABC      1  003  2020/12/28  桜田     5.0  \n",
       "20   株式会社ABC      1  003  2020/12/28  桜田     5.0  \n",
       "21   株式会社ABC      1  003  2020/12/28  桜田     5.0  \n",
       "22   株式会社ABC      1  003  2020/12/28  桜田     5.0  \n",
       "\n",
       "[84 rows x 12 columns]"
      ]
     },
     "execution_count": 58,
     "metadata": {},
     "output_type": "execute_result"
    }
   ],
   "source": [
    "df"
   ]
  },
  {
   "cell_type": "code",
   "execution_count": 59,
   "metadata": {},
   "outputs": [],
   "source": [
    "df=df.dropna()"
   ]
  },
  {
   "cell_type": "code",
   "execution_count": 60,
   "metadata": {},
   "outputs": [
    {
     "data": {
      "text/html": [
       "<div>\n",
       "<style scoped>\n",
       "    .dataframe tbody tr th:only-of-type {\n",
       "        vertical-align: middle;\n",
       "    }\n",
       "\n",
       "    .dataframe tbody tr th {\n",
       "        vertical-align: top;\n",
       "    }\n",
       "\n",
       "    .dataframe thead th {\n",
       "        text-align: right;\n",
       "    }\n",
       "</style>\n",
       "<table border=\"1\" class=\"dataframe\">\n",
       "  <thead>\n",
       "    <tr style=\"text-align: right;\">\n",
       "      <th>10</th>\n",
       "      <th>日付</th>\n",
       "      <th>商品コード</th>\n",
       "      <th>品名</th>\n",
       "      <th>数量[L] or [-]</th>\n",
       "      <th>単価[¥/L] or [¥]</th>\n",
       "      <th>金額</th>\n",
       "      <th>企業名</th>\n",
       "      <th>企業コード</th>\n",
       "      <th>請求No</th>\n",
       "      <th>発行日</th>\n",
       "      <th>発行者</th>\n",
       "      <th>発行者コード</th>\n",
       "    </tr>\n",
       "  </thead>\n",
       "  <tbody>\n",
       "    <tr>\n",
       "      <th>0</th>\n",
       "      <td>2020-10-04 00:00:00</td>\n",
       "      <td>GSL0001</td>\n",
       "      <td>レギュラー</td>\n",
       "      <td>20</td>\n",
       "      <td>120</td>\n",
       "      <td>2400</td>\n",
       "      <td>TTT Inc.</td>\n",
       "      <td>6</td>\n",
       "      <td>012</td>\n",
       "      <td>2020/10/31</td>\n",
       "      <td>岸辺</td>\n",
       "      <td>2.0</td>\n",
       "    </tr>\n",
       "    <tr>\n",
       "      <th>1</th>\n",
       "      <td>2020-10-05 00:00:00</td>\n",
       "      <td>GSL0002</td>\n",
       "      <td>ハイオク</td>\n",
       "      <td>45</td>\n",
       "      <td>160</td>\n",
       "      <td>7200</td>\n",
       "      <td>TTT Inc.</td>\n",
       "      <td>6</td>\n",
       "      <td>012</td>\n",
       "      <td>2020/10/31</td>\n",
       "      <td>岸辺</td>\n",
       "      <td>2.0</td>\n",
       "    </tr>\n",
       "    <tr>\n",
       "      <th>2</th>\n",
       "      <td>2020-10-06 00:00:00</td>\n",
       "      <td>GSL0003</td>\n",
       "      <td>軽油</td>\n",
       "      <td>50</td>\n",
       "      <td>100</td>\n",
       "      <td>5000</td>\n",
       "      <td>TTT Inc.</td>\n",
       "      <td>6</td>\n",
       "      <td>012</td>\n",
       "      <td>2020/10/31</td>\n",
       "      <td>岸辺</td>\n",
       "      <td>2.0</td>\n",
       "    </tr>\n",
       "    <tr>\n",
       "      <th>3</th>\n",
       "      <td>2020-10-07 00:00:00</td>\n",
       "      <td>GDS0002</td>\n",
       "      <td>コロン</td>\n",
       "      <td>3</td>\n",
       "      <td>800</td>\n",
       "      <td>2400</td>\n",
       "      <td>TTT Inc.</td>\n",
       "      <td>6</td>\n",
       "      <td>012</td>\n",
       "      <td>2020/10/31</td>\n",
       "      <td>岸辺</td>\n",
       "      <td>2.0</td>\n",
       "    </tr>\n",
       "    <tr>\n",
       "      <th>4</th>\n",
       "      <td>2020-10-08 00:00:00</td>\n",
       "      <td>CMT0004</td>\n",
       "      <td>オイル交換</td>\n",
       "      <td>1</td>\n",
       "      <td>1000</td>\n",
       "      <td>1000</td>\n",
       "      <td>TTT Inc.</td>\n",
       "      <td>6</td>\n",
       "      <td>012</td>\n",
       "      <td>2020/10/31</td>\n",
       "      <td>岸辺</td>\n",
       "      <td>2.0</td>\n",
       "    </tr>\n",
       "    <tr>\n",
       "      <th>...</th>\n",
       "      <td>...</td>\n",
       "      <td>...</td>\n",
       "      <td>...</td>\n",
       "      <td>...</td>\n",
       "      <td>...</td>\n",
       "      <td>...</td>\n",
       "      <td>...</td>\n",
       "      <td>...</td>\n",
       "      <td>...</td>\n",
       "      <td>...</td>\n",
       "      <td>...</td>\n",
       "      <td>...</td>\n",
       "    </tr>\n",
       "    <tr>\n",
       "      <th>67</th>\n",
       "      <td>2020-12-20 00:00:00</td>\n",
       "      <td>CMT0004</td>\n",
       "      <td>オイル交換</td>\n",
       "      <td>1</td>\n",
       "      <td>1000</td>\n",
       "      <td>1000</td>\n",
       "      <td>株式会社ABC</td>\n",
       "      <td>1</td>\n",
       "      <td>003</td>\n",
       "      <td>2020/12/28</td>\n",
       "      <td>桜田</td>\n",
       "      <td>5.0</td>\n",
       "    </tr>\n",
       "    <tr>\n",
       "      <th>68</th>\n",
       "      <td>2020-12-22 00:00:00</td>\n",
       "      <td>CMT0005</td>\n",
       "      <td>タイヤ交換</td>\n",
       "      <td>1</td>\n",
       "      <td>4000</td>\n",
       "      <td>4000</td>\n",
       "      <td>株式会社ABC</td>\n",
       "      <td>1</td>\n",
       "      <td>003</td>\n",
       "      <td>2020/12/28</td>\n",
       "      <td>桜田</td>\n",
       "      <td>5.0</td>\n",
       "    </tr>\n",
       "    <tr>\n",
       "      <th>69</th>\n",
       "      <td>2020-12-22 00:00:00</td>\n",
       "      <td>GDS0001</td>\n",
       "      <td>タイヤ</td>\n",
       "      <td>4</td>\n",
       "      <td>8000</td>\n",
       "      <td>32000</td>\n",
       "      <td>株式会社ABC</td>\n",
       "      <td>1</td>\n",
       "      <td>003</td>\n",
       "      <td>2020/12/28</td>\n",
       "      <td>桜田</td>\n",
       "      <td>5.0</td>\n",
       "    </tr>\n",
       "    <tr>\n",
       "      <th>70</th>\n",
       "      <td>2020-12-22 00:00:00</td>\n",
       "      <td>GDS0002</td>\n",
       "      <td>コロン</td>\n",
       "      <td>1</td>\n",
       "      <td>800</td>\n",
       "      <td>800</td>\n",
       "      <td>株式会社ABC</td>\n",
       "      <td>1</td>\n",
       "      <td>003</td>\n",
       "      <td>2020/12/28</td>\n",
       "      <td>桜田</td>\n",
       "      <td>5.0</td>\n",
       "    </tr>\n",
       "    <tr>\n",
       "      <th>71</th>\n",
       "      <td>2020-12-22 00:00:00</td>\n",
       "      <td>GDS0003</td>\n",
       "      <td>スナック</td>\n",
       "      <td>3</td>\n",
       "      <td>100</td>\n",
       "      <td>300</td>\n",
       "      <td>株式会社ABC</td>\n",
       "      <td>1</td>\n",
       "      <td>003</td>\n",
       "      <td>2020/12/28</td>\n",
       "      <td>桜田</td>\n",
       "      <td>5.0</td>\n",
       "    </tr>\n",
       "  </tbody>\n",
       "</table>\n",
       "<p>72 rows × 12 columns</p>\n",
       "</div>"
      ],
      "text/plain": [
       "10                   日付    商品コード     品名 数量[L] or [-] 単価[¥/L] or [¥]     金額  \\\n",
       "0   2020-10-04 00:00:00  GSL0001  レギュラー           20            120   2400   \n",
       "1   2020-10-05 00:00:00  GSL0002   ハイオク           45            160   7200   \n",
       "2   2020-10-06 00:00:00  GSL0003     軽油           50            100   5000   \n",
       "3   2020-10-07 00:00:00  GDS0002    コロン            3            800   2400   \n",
       "4   2020-10-08 00:00:00  CMT0004  オイル交換            1           1000   1000   \n",
       "..                  ...      ...    ...          ...            ...    ...   \n",
       "67  2020-12-20 00:00:00  CMT0004  オイル交換            1           1000   1000   \n",
       "68  2020-12-22 00:00:00  CMT0005  タイヤ交換            1           4000   4000   \n",
       "69  2020-12-22 00:00:00  GDS0001    タイヤ            4           8000  32000   \n",
       "70  2020-12-22 00:00:00  GDS0002    コロン            1            800    800   \n",
       "71  2020-12-22 00:00:00  GDS0003   スナック            3            100    300   \n",
       "\n",
       "10       企業名  企業コード 請求No         発行日 発行者  発行者コード  \n",
       "0   TTT Inc.      6  012  2020/10/31  岸辺     2.0  \n",
       "1   TTT Inc.      6  012  2020/10/31  岸辺     2.0  \n",
       "2   TTT Inc.      6  012  2020/10/31  岸辺     2.0  \n",
       "3   TTT Inc.      6  012  2020/10/31  岸辺     2.0  \n",
       "4   TTT Inc.      6  012  2020/10/31  岸辺     2.0  \n",
       "..       ...    ...  ...         ...  ..     ...  \n",
       "67   株式会社ABC      1  003  2020/12/28  桜田     5.0  \n",
       "68   株式会社ABC      1  003  2020/12/28  桜田     5.0  \n",
       "69   株式会社ABC      1  003  2020/12/28  桜田     5.0  \n",
       "70   株式会社ABC      1  003  2020/12/28  桜田     5.0  \n",
       "71   株式会社ABC      1  003  2020/12/28  桜田     5.0  \n",
       "\n",
       "[72 rows x 12 columns]"
      ]
     },
     "execution_count": 60,
     "metadata": {},
     "output_type": "execute_result"
    }
   ],
   "source": [
    "df.reset_index(drop=True)"
   ]
  },
  {
   "cell_type": "code",
   "execution_count": 61,
   "metadata": {},
   "outputs": [],
   "source": [
    "df=df.iloc[:,[6,7,8,9,10,1,2,3,4,5]]"
   ]
  },
  {
   "cell_type": "code",
   "execution_count": 62,
   "metadata": {},
   "outputs": [],
   "source": [
    "df.to_excel('output/all_data02.xlsx',index=False)"
   ]
  },
  {
   "cell_type": "code",
   "execution_count": 63,
   "metadata": {},
   "outputs": [],
   "source": [
    "members=df['発行者'].unique()"
   ]
  },
  {
   "cell_type": "code",
   "execution_count": 64,
   "metadata": {},
   "outputs": [],
   "source": [
    "member=members[0]"
   ]
  },
  {
   "cell_type": "code",
   "execution_count": 65,
   "metadata": {},
   "outputs": [],
   "source": [
    "_df=df[df['発行者']==member]"
   ]
  },
  {
   "cell_type": "code",
   "execution_count": 66,
   "metadata": {},
   "outputs": [
    {
     "data": {
      "text/plain": [
       "120300"
      ]
     },
     "execution_count": 66,
     "metadata": {},
     "output_type": "execute_result"
    }
   ],
   "source": [
    "_df['金額'].sum()"
   ]
  },
  {
   "cell_type": "code",
   "execution_count": 67,
   "metadata": {},
   "outputs": [
    {
     "data": {
      "text/plain": [
       "array(['TTT Inc.', 'ICHIGO'], dtype=object)"
      ]
     },
     "execution_count": 67,
     "metadata": {},
     "output_type": "execute_result"
    }
   ],
   "source": [
    "companies=_df['企業名'].unique()\n",
    "companies"
   ]
  },
  {
   "cell_type": "code",
   "execution_count": 83,
   "metadata": {},
   "outputs": [
    {
     "data": {
      "text/plain": [
       "'TTT Inc.'"
      ]
     },
     "execution_count": 83,
     "metadata": {},
     "output_type": "execute_result"
    }
   ],
   "source": [
    "companies[0]"
   ]
  },
  {
   "cell_type": "code",
   "execution_count": 87,
   "metadata": {},
   "outputs": [
    {
     "data": {
      "text/plain": [
       "89400"
      ]
     },
     "execution_count": 87,
     "metadata": {},
     "output_type": "execute_result"
    }
   ],
   "source": [
    "_df[_df['企業名']==companies[0]]['金額'].sum()"
   ]
  },
  {
   "cell_type": "code",
   "execution_count": 88,
   "metadata": {},
   "outputs": [],
   "source": [
    "tot_earnings=_df['金額'].sum()"
   ]
  },
  {
   "cell_type": "raw",
   "metadata": {},
   "source": [
    "def gokei():\n",
    "    df = pd.DataFrame()\n",
    "    for filepath in filepaths:\n",
    "        df=pd.concat([df,extract(filepath)])\n",
    "    df=df.dropna()\n",
    "    df=df.reset_index(drop=True)\n",
    "    df=df.iloc[:,[6,7,8,9,10,1,2,3,4,5]]\n",
    "    members=df['発行者'].unique()\n",
    "    for member in members:\n",
    "        for hakko in df['発行者']:\n",
    "            _df=df[df['発行者']==member]\n",
    "            all_sum=_df['金額'].sum()\n",
    "            return all_sum\n",
    "                for kigyo in _df['企業名']:\n",
    "                    small_sum=_df[_df['企業名']==companies[0]]['金額'].sum()\n",
    "                    return small_sum\n",
    "                "
   ]
  },
  {
   "cell_type": "code",
   "execution_count": 92,
   "metadata": {},
   "outputs": [
    {
     "data": {
      "text/html": [
       "<div>\n",
       "<style scoped>\n",
       "    .dataframe tbody tr th:only-of-type {\n",
       "        vertical-align: middle;\n",
       "    }\n",
       "\n",
       "    .dataframe tbody tr th {\n",
       "        vertical-align: top;\n",
       "    }\n",
       "\n",
       "    .dataframe thead th {\n",
       "        text-align: right;\n",
       "    }\n",
       "</style>\n",
       "<table border=\"1\" class=\"dataframe\">\n",
       "  <thead>\n",
       "    <tr style=\"text-align: right;\">\n",
       "      <th></th>\n",
       "      <th>担当者</th>\n",
       "      <th>企業名</th>\n",
       "      <th>金額</th>\n",
       "    </tr>\n",
       "  </thead>\n",
       "  <tbody>\n",
       "    <tr>\n",
       "      <th>0</th>\n",
       "      <td>岸辺</td>\n",
       "      <td>全体</td>\n",
       "      <td>120300</td>\n",
       "    </tr>\n",
       "  </tbody>\n",
       "</table>\n",
       "</div>"
      ],
      "text/plain": [
       "  担当者 企業名      金額\n",
       "0  岸辺  全体  120300"
      ]
     },
     "execution_count": 92,
     "metadata": {},
     "output_type": "execute_result"
    }
   ],
   "source": [
    "pd.DataFrame({'担当者':member,'企業名':'全体','金額':tot_earnings},index=[0])"
   ]
  },
  {
   "cell_type": "code",
   "execution_count": 95,
   "metadata": {},
   "outputs": [],
   "source": [
    "company=companies[0]"
   ]
  },
  {
   "cell_type": "code",
   "execution_count": 97,
   "metadata": {},
   "outputs": [],
   "source": [
    "earnings=_df[_df['企業名']==companies[0]]['金額'].sum()"
   ]
  },
  {
   "cell_type": "code",
   "execution_count": 99,
   "metadata": {},
   "outputs": [
    {
     "data": {
      "text/html": [
       "<div>\n",
       "<style scoped>\n",
       "    .dataframe tbody tr th:only-of-type {\n",
       "        vertical-align: middle;\n",
       "    }\n",
       "\n",
       "    .dataframe tbody tr th {\n",
       "        vertical-align: top;\n",
       "    }\n",
       "\n",
       "    .dataframe thead th {\n",
       "        text-align: right;\n",
       "    }\n",
       "</style>\n",
       "<table border=\"1\" class=\"dataframe\">\n",
       "  <thead>\n",
       "    <tr style=\"text-align: right;\">\n",
       "      <th></th>\n",
       "      <th>担当者</th>\n",
       "      <th>企業名</th>\n",
       "      <th>金額</th>\n",
       "    </tr>\n",
       "  </thead>\n",
       "  <tbody>\n",
       "    <tr>\n",
       "      <th>1</th>\n",
       "      <td>岸辺</td>\n",
       "      <td>TTT Inc.</td>\n",
       "      <td>89400</td>\n",
       "    </tr>\n",
       "  </tbody>\n",
       "</table>\n",
       "</div>"
      ],
      "text/plain": [
       "  担当者       企業名     金額\n",
       "1  岸辺  TTT Inc.  89400"
      ]
     },
     "execution_count": 99,
     "metadata": {},
     "output_type": "execute_result"
    }
   ],
   "source": [
    "pd.DataFrame({'担当者':member,'企業名':company,'金額':earnings},index=[1])"
   ]
  },
  {
   "cell_type": "code",
   "execution_count": 100,
   "metadata": {},
   "outputs": [
    {
     "data": {
      "text/plain": [
       "{'担当者': '岸辺', '企業名': '全体', '金額': 120300}"
      ]
     },
     "execution_count": 100,
     "metadata": {},
     "output_type": "execute_result"
    }
   ],
   "source": [
    "{'担当者':member,'企業名':'全体','金額':tot_earnings}"
   ]
  },
  {
   "cell_type": "code",
   "execution_count": 102,
   "metadata": {},
   "outputs": [
    {
     "data": {
      "text/plain": [
       "{'企業名': 'TTT Inc.', '金額': 89400}"
      ]
     },
     "execution_count": 102,
     "metadata": {},
     "output_type": "execute_result"
    }
   ],
   "source": [
    "dict(企業名=company,金額=earnings)"
   ]
  },
  {
   "cell_type": "code",
   "execution_count": null,
   "metadata": {},
   "outputs": [],
   "source": []
  }
 ],
 "metadata": {
  "kernelspec": {
   "display_name": "Python 3",
   "language": "python",
   "name": "python3"
  },
  "language_info": {
   "codemirror_mode": {
    "name": "ipython",
    "version": 3
   },
   "file_extension": ".py",
   "mimetype": "text/x-python",
   "name": "python",
   "nbconvert_exporter": "python",
   "pygments_lexer": "ipython3",
   "version": "3.8.5"
  }
 },
 "nbformat": 4,
 "nbformat_minor": 4
}
