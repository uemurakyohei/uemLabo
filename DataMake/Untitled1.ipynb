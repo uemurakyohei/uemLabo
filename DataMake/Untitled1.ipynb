{
 "cells": [
  {
   "cell_type": "code",
   "execution_count": 24,
   "id": "3ccc2449-1ff0-4a18-9020-d933141c7188",
   "metadata": {},
   "outputs": [
    {
     "name": "stdin",
     "output_type": "stream",
     "text": [
      " 15.3\n"
     ]
    },
    {
     "name": "stdout",
     "output_type": "stream",
     "text": [
      "15 3.0\n",
      "15\n"
     ]
    }
   ],
   "source": [
    "Num = float(input())\n",
    "\n",
    "X = int(Num)\n",
    "Y = Num*10 - X*10\n",
    "\n",
    "print(X,Y)\n",
    "\n",
    "if Y<=2:\n",
    "    print(X,\"-\")\n",
    "elif 7<=Y:\n",
    "    print(X,\"+\")\n",
    "else:\n",
    "    print(X)\n",
    "\n"
   ]
  },
  {
   "cell_type": "code",
   "execution_count": 23,
   "id": "cc2f4a6f-8d12-492e-a75f-2a89aa7e248a",
   "metadata": {},
   "outputs": [
    {
     "name": "stdin",
     "output_type": "stream",
     "text": [
      " 5\n",
      " 5 3 2 4 1\n"
     ]
    },
    {
     "name": "stdout",
     "output_type": "stream",
     "text": [
      "4 1 0\n",
      "2 2 1\n",
      "1 3 2\n",
      "3 4 3\n",
      "0 5 4\n",
      "[4, 2, 1, 3, 0]\n"
     ]
    }
   ],
   "source": [
    "N = int(input())\n",
    "listP = list(map(int,input().split()))\n",
    "\n",
    "listQ = [1,1,1,1,1]\n",
    "\n",
    "for i in range(N):\n",
    "    s = listP[i]-1\n",
    "    listQ[s] = i\n",
    "    print(s,listP[s],listQ[s])\n",
    "    \n",
    "print(listQ)"
   ]
  },
  {
   "cell_type": "code",
   "execution_count": null,
   "id": "7ed4e339-8121-469a-837a-8bb8767964e8",
   "metadata": {},
   "outputs": [],
   "source": []
  }
 ],
 "metadata": {
  "kernelspec": {
   "display_name": "Python 3 (ipykernel)",
   "language": "python",
   "name": "python3"
  },
  "language_info": {
   "codemirror_mode": {
    "name": "ipython",
    "version": 3
   },
   "file_extension": ".py",
   "mimetype": "text/x-python",
   "name": "python",
   "nbconvert_exporter": "python",
   "pygments_lexer": "ipython3",
   "version": "3.8.12"
  }
 },
 "nbformat": 4,
 "nbformat_minor": 5
}
